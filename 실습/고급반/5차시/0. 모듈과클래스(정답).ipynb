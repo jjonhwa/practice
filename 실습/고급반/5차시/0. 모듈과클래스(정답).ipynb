{
 "cells": [
  {
   "cell_type": "code",
   "execution_count": 3,
   "metadata": {},
   "outputs": [
    {
     "name": "stdout",
     "output_type": "stream",
     "text": [
      " 'Python Programming' 책이 도서관에 반입되었습니다!\n",
      " 'Data Structures' 책이 도서관에 반입되었습니다!\n",
      "현재 대여가능한 도서 목록은 다음과 같습니다.\n",
      "Python Programming\n",
      "Data Structures\n",
      " 김철수가 'Python Programming'를 대여했습니다!\n",
      "현재 대여가능한 도서 목록은 다음과 같습니다.\n",
      "Data Structures\n",
      "김철수가 'Python Programming'을 반납했습니다!\n",
      "현재 대여가능한 도서 목록은 다음과 같습니다.\n",
      "Data Structures\n",
      "Python Programming\n"
     ]
    }
   ],
   "source": [
    "class Library:\n",
    "    def __init__(self):\n",
    "        self.books = []\n",
    "        self.lent_books = {}\n",
    "    \n",
    "    def add_book(self, book):\n",
    "        self.books.append(book)\n",
    "        print(f\" '{book}' 책이 도서관에 반입되었습니다!\")\n",
    "    \n",
    "    def lend_book(self, book, borrower):\n",
    "        if book in self.books:\n",
    "            self.books.remove(book)\n",
    "            self.lent_books[book] = borrower\n",
    "            print(f\" {borrower}가 '{book}'를 대여했습니다!\")\n",
    "        else:\n",
    "            print(f\" '{book}'은 이미 대여중입니다!\")\n",
    "    \n",
    "    def return_book(self, book):\n",
    "        if book in self.lent_books:\n",
    "            borrower = self.lent_books.pop(book)\n",
    "            self.books.append(book)\n",
    "            print(f\"{borrower}가 '{book}'을 반납했습니다!\")\n",
    "        else:\n",
    "            print(f\"'{book}'은 대여중이지 않습니다!\")\n",
    "    \n",
    "    def display_books(self):\n",
    "        print(\"현재 대여가능한 도서 목록은 다음과 같습니다.\")\n",
    "        for book in self.books:\n",
    "            print(book)\n",
    "\n",
    "# 실습 예시\n",
    "library = Library()\n",
    "library.add_book(\"Python Programming\")\n",
    "library.add_book(\"Data Structures\")\n",
    "library.display_books()\n",
    "library.lend_book(\"Python Programming\", \"김철수\")\n",
    "library.display_books()\n",
    "library.return_book(\"Python Programming\")\n",
    "library.display_books()\n"
   ]
  },
  {
   "cell_type": "code",
   "execution_count": 4,
   "metadata": {},
   "outputs": [
    {
     "name": "stdout",
     "output_type": "stream",
     "text": [
      "Charlie 학생이 성적부에 추가되었습니다.\n",
      "Diana 학생이 성적부에 추가되었습니다.\n",
      "Charlie 학생의 성적 85점이 추가되었습니다.\n",
      "Charlie 학생의 성적 90점이 추가되었습니다.\n",
      "Charlie 학생의 평균 성적은 87.50점입니다.\n",
      "Diana 학생의 성적 78점이 추가되었습니다.\n",
      "Diana 학생의 성적 88점이 추가되었습니다.\n",
      "Diana 학생의 평균 성적은 83.00점입니다.\n"
     ]
    }
   ],
   "source": [
    "class Student:\n",
    "    def __init__(self, name):\n",
    "        self.name = name\n",
    "        self.grades = []\n",
    "    \n",
    "    def add_grade(self, grade):\n",
    "        if 0 <= grade <= 100:\n",
    "            self.grades.append(grade)\n",
    "            print(f\"{self.name} 학생의 성적 {grade}점이 추가되었습니다.\")\n",
    "        else:\n",
    "            print(\"성적은 0과 100 사이여야 합니다.\")\n",
    "    \n",
    "    def average_grade(self):\n",
    "        if self.grades:\n",
    "            average = sum(self.grades) / len(self.grades)\n",
    "            print(f\"{self.name} 학생의 평균 성적은 {average:.2f}점입니다.\")\n",
    "        else:\n",
    "            print(f\"{self.name} 학생의 성적이 없습니다.\")\n",
    "\n",
    "class Gradebook:\n",
    "    def __init__(self):\n",
    "        self.students = {}\n",
    "    \n",
    "    def add_student(self, student):\n",
    "        self.students[student.name] = student\n",
    "        print(f\"{student.name} 학생이 성적부에 추가되었습니다.\")\n",
    "    \n",
    "    def display_students(self):\n",
    "        print(\"성적부에 있는 학생들:\")\n",
    "        for student in self.students.values():\n",
    "            print(student.name)\n",
    "\n",
    "# 실습 예시\n",
    "student1 = Student(\"Charlie\")\n",
    "student2 = Student(\"Diana\")\n",
    "\n",
    "gradebook = Gradebook()\n",
    "gradebook.add_student(student1)\n",
    "gradebook.add_student(student2)\n",
    "\n",
    "student1.add_grade(85)\n",
    "student1.add_grade(90)\n",
    "student1.average_grade()\n",
    "\n",
    "student2.add_grade(78)\n",
    "student2.add_grade(88)\n",
    "student2.average_grade()\n"
   ]
  },
  {
   "cell_type": "code",
   "execution_count": null,
   "metadata": {},
   "outputs": [],
   "source": []
  }
 ],
 "metadata": {
  "interpreter": {
   "hash": "b8eaaa6818ecebda46680ced9e2f250417589d1dca1355018f6ee4137f9be2c8"
  },
  "kernelspec": {
   "display_name": "Python 3.9.17 ('base')",
   "language": "python",
   "name": "python3"
  },
  "language_info": {
   "codemirror_mode": {
    "name": "ipython",
    "version": 3
   },
   "file_extension": ".py",
   "mimetype": "text/x-python",
   "name": "python",
   "nbconvert_exporter": "python",
   "pygments_lexer": "ipython3",
   "version": "3.9.17"
  },
  "orig_nbformat": 4
 },
 "nbformat": 4,
 "nbformat_minor": 2
}
