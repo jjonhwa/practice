{
 "cells": [
  {
   "cell_type": "markdown",
   "metadata": {},
   "source": [
    "## Numpy Problems \n",
    "- [넘파이 핵심 내용](https://assets.datacamp.com/blog_assets/Numpy_Python_Cheat_Sheet.pdf)을 참고하여 다음을 응답하시오"
   ]
  },
  {
   "cell_type": "code",
   "execution_count": 1,
   "metadata": {},
   "outputs": [],
   "source": [
    "import numpy as np\n",
    "import unittest"
   ]
  },
  {
   "cell_type": "code",
   "execution_count": 11,
   "metadata": {},
   "outputs": [],
   "source": [
    "class TestArray(unittest.TestCase):\n",
    "\n",
    "    def test_number_1(self):\n",
    "        for _ in range(10):\n",
    "            random_number_list = list(np.random.randint(1e2, size=10))\n",
    "            pred = total_exercise_time(random_number_list)\n",
    "            self.assertEqual(pred, np.sum(random_number_list))\n",
    "\n",
    "    def test_number_2(self):\n",
    "        for _ in range(10):\n",
    "            random_number_list = np.random.randint(1e2, size=(4,2))\n",
    "            pred = total_distance(random_number_list)\n",
    "            check = np.sqrt(np.sum(np.diff(random_number_list, axis=0)**2, axis=1))\n",
    "            self.assertEqual(pred, np.round(np.sum(check), 2))\n",
    "\n",
    "    def test_number_3(self):\n",
    "        for _ in range(10):\n",
    "            transactions = [\"in\" if n >=5 else \"out\" for n in np.random.randint(10, size=10)]\n",
    "            amounts = [n for n in np.random.randint(100, size=10)]\n",
    "            pred = final_inventory(transactions, amounts)\n",
    "            self.assertEqual(pred, np.sum(np.where(transactions=='in', 1, -1) * amounts))\n",
    "    \n",
    "    def test_number_4(self):\n",
    "        angle_list = [90, 180, 270, 30]\n",
    "        for angle in angle_list:\n",
    "            arr = np.random.randint(4, size=(3,3))\n",
    "            pred = rotate_array(arr, angle)\n",
    "            if angle == 90:\n",
    "                self.assertEqual(pred.tolist(), np.transpose(arr[::-1]).tolist())\n",
    "            elif angle == 180:\n",
    "                self.assertEqual(pred.tolist(), arr[::-1, ::-1].tolist())\n",
    "            elif angle == 270:\n",
    "                self.assertEqual(pred.tolist(), np.transpose(arr)[::-1].tolist())\n",
    "            else:\n",
    "                self.assertEqual(pred, '오류')\n",
    "    \n",
    "    def test_number_5(self):\n",
    "        for _ in range(10):\n",
    "            message_matrix = np.random.randint(10, size=(2,2))\n",
    "            key_matrices = [np.random.randint(10, size=(2,2)), np.random.randint(10, size=(2,2))]\n",
    "            pred = decrypt_message_multi_step(message_matrix, key_matrices)\n",
    "            for key in key_matrices:\n",
    "                message_matrix = np.dot(message_matrix, key)\n",
    "            self.assertEqual(pred.tolist(), message_matrix.tolist())\n",
    "\n",
    "    def test_number_6(self):\n",
    "        for _ in range(10):\n",
    "            a = np.random.randint(100, size=(3,3))\n",
    "            b = np.random.randint(1, size=(3,3))\n",
    "            c = np.random.randint(1, size=3)\n",
    "            pred = weather_prediction(a,b,c)\n",
    "            self.assertEqual(pred.tolist(), np.dot(np.dot(a,b), c).tolist())"
   ]
  },
  {
   "cell_type": "markdown",
   "metadata": {},
   "source": [
    "### 난이도 1: 미션 - 우주 비행사 훈련"
   ]
  },
  {
   "cell_type": "markdown",
   "metadata": {},
   "source": [
    "**배경 이야기:**\n",
    "- 우주 비행사가 되기 위해서는 강력한 체력과 지구력 훈련이 필요합니다. 그 중 중요한 훈련 중 하나는 일정 시간 동안 다양한 운동을 반복하는 것입니다. 우주 비행사들은 매일 다양한 운동을 수행해야 하며, 각 운동에 할당된 시간이 다릅니다. 당신은 우주 비행사 훈련 프로그램의 일일 운동 시간을 계산하는 임무를 맡았습니다.\n",
    "\n",
    "**문제 설명:**\n",
    "- 우주 비행사들이 매일 수행해야 하는 운동 시간 목록이 있습니다. 이 목록은 numpy 배열로 주어지며, 배열의 각 요소는 특정 운동을 수행하는 데 걸리는 시간을 분 단위로 나타냅니다. 당신의 임무는 이 배열을 받아서 총 운동 시간을 계산하는 것입니다.\n",
    "\n",
    "**입력:**\n",
    "- 하나의 numpy 배열 exercise_times가 주어집니다. 이 배열은 우주 비행사들이 수행해야 하는 각 운동의 시간을 분 단위로 나타냅니다.\n",
    "\n",
    "**출력:**\n",
    "- 우주 비행사들이 하루에 운동하는 총 시간을 분 단위로 출력하세요.\n",
    "\n",
    "**예시:**\n",
    "```\n",
    "exercise_times = np.array([30, 45, 20, 10, 60])  # 각 운동의 시간 (분)\n",
    "\n",
    "# 기대 출력:\n",
    "165\n",
    "```"
   ]
  },
  {
   "cell_type": "code",
   "execution_count": 3,
   "metadata": {},
   "outputs": [],
   "source": [
    "def total_exercise_time(exercise_times):\n",
    "    # TODO: 문제를 해결하시오\n",
    "    return np.sum(exercise_times)"
   ]
  },
  {
   "cell_type": "code",
   "execution_count": 4,
   "metadata": {},
   "outputs": [
    {
     "name": "stdout",
     "output_type": "stream",
     "text": [
      "165\n"
     ]
    }
   ],
   "source": [
    "# 테스트 연습\n",
    "exercise_times = np.array([30, 45, 20, 10, 60])\n",
    "print(total_exercise_time(exercise_times))  # 165 출력"
   ]
  },
  {
   "cell_type": "code",
   "execution_count": 5,
   "metadata": {},
   "outputs": [
    {
     "name": "stdout",
     "output_type": "stream",
     "text": [
      "완벽합니다~!\n"
     ]
    }
   ],
   "source": [
    "# 최종 테스트\n",
    "tbm = TestArray()\n",
    "tbm.test_number_1()\n",
    "print(\"완벽합니다~!\")"
   ]
  },
  {
   "cell_type": "markdown",
   "metadata": {},
   "source": [
    "### 난이도 2: 미션 - 우주 탐사 로봇의 이동 경로 계산"
   ]
  },
  {
   "cell_type": "markdown",
   "metadata": {},
   "source": [
    "**배경 이야기:**\n",
    "- 우주 탐사 로봇은 화성 표면을 탐사하며 여러 지점을 방문합니다. 로봇은 특정한 지점을 방문할 때마다 자신의 위치를 기록합니다. 당신의 임무는 로봇이 이동한 경로의 총 거리를 계산하는 것입니다.\n",
    "\n",
    "**문제 설명:**\n",
    "- 로봇의 이동 경로는 여러 지점의 좌표로 주어집니다. 각 지점은 2차원 평면의 좌표 (x, y)로 나타납니다. numpy 배열로 주어진 이 좌표들을 이용해 로봇이 이동한 총 거리를 계산하세요.\n",
    "\n",
    "**입력:**\n",
    "- 2차원 numpy 배열 coordinates가 주어집니다. 이 배열의 각 행은 로봇이 방문한 지점의 (x, y) 좌표를 나타냅니다.\n",
    "\n",
    "**출력:**\n",
    "- 로봇이 이동한 총 거리를 소수점 세번째 자리에서 반올림하시오.\n",
    "\n",
    "**예시:**\n",
    "```\n",
    "coordinates = np.array([\n",
    "    [0, 0],\n",
    "    [3, 4],\n",
    "    [6, 8],\n",
    "    [9, 12]\n",
    "])  # 각 지점의 좌표\n",
    "\n",
    "# 기대 출력:\n",
    "15.00\n",
    "```"
   ]
  },
  {
   "cell_type": "code",
   "execution_count": 12,
   "metadata": {},
   "outputs": [],
   "source": [
    "def total_distance(coordinates: np.array):\n",
    "    # 두 점 사이의 거리 계산\n",
    "    diff = np.diff(coordinates, axis=0)\n",
    "    distances = np.sqrt(np.sum(diff**2, axis=1))\n",
    "    return np.round(np.sum(distances), 2)"
   ]
  },
  {
   "cell_type": "code",
   "execution_count": 13,
   "metadata": {},
   "outputs": [
    {
     "name": "stdout",
     "output_type": "stream",
     "text": [
      "15.00\n"
     ]
    }
   ],
   "source": [
    "# 테스트 연습\n",
    "coordinates = np.array([\n",
    "    [0, 0],\n",
    "    [3, 4],\n",
    "    [6, 8],\n",
    "    [9, 12]\n",
    "])\n",
    "print(f\"{total_distance(coordinates):.2f}\")  # 15.00 출력"
   ]
  },
  {
   "cell_type": "code",
   "execution_count": 14,
   "metadata": {},
   "outputs": [
    {
     "name": "stdout",
     "output_type": "stream",
     "text": [
      "완벽합니다~!\n"
     ]
    }
   ],
   "source": [
    "# 테스트\n",
    "tbm = TestArray()\n",
    "tbm.test_number_2()\n",
    "print(\"완벽합니다~!\")"
   ]
  },
  {
   "cell_type": "code",
   "execution_count": null,
   "metadata": {},
   "outputs": [],
   "source": [
    "민우님 강의 요청\n",
    "AI 요청 강의 관심\n",
    "\n"
   ]
  },
  {
   "cell_type": "markdown",
   "metadata": {},
   "source": [
    "### 난이도 2: 미션 - 물류 창고의 재고 관리"
   ]
  },
  {
   "cell_type": "markdown",
   "metadata": {},
   "source": [
    "**배경 이야기:**\n",
    "- 대형 물류 창고에서는 다양한 제품이 입고되고 출고됩니다. 각 제품의 입고와 출고 기록을 분석하여 특정 시점에서의 재고 수량을 계산해야 합니다. 당신의 임무는 각 제품의 일일 재고 변동을 기반으로 최종 재고를 계산하는 것입니다.\n",
    "\n",
    "**문제 설명:**\n",
    "- 하루 동안의 제품 입고와 출고 기록이 numpy 배열로 주어집니다. 각 기록은 '입고' 또는 '출고'로 구분되며, 그에 따라 재고가 증가하거나 감소합니다. 이 데이터를 이용해 하루가 끝날 때의 최종 재고를 계산하세요.\n",
    "\n",
    "**입력:**\n",
    "- 두 개의 numpy 배열 transactions와 amounts가 주어집니다.\n",
    "- transactions: 'in' 또는 'out'으로 구성된 문자열 배열로, 각 요소는 해당 시간에 발생한 입고 또는 출고를 나타냅니다.\n",
    "- amounts: 각 입고 또는 출고 시의 수량을 나타내는 정수 배열입니다.\n",
    "\n",
    "**출력:**\n",
    "- 하루가 끝날 때의 최종 재고 수량을 정수로 출력하세요.\n",
    "\n",
    "**예시:**\n",
    "```\n",
    "transactions = np.array(['in', 'out', 'in', 'in', 'out'])\n",
    "amounts = np.array([100, 50, 200, 150, 100])  # 각 거래의 수량\n",
    "\n",
    "# 기대 출력\n",
    "300\n",
    "```\n"
   ]
  },
  {
   "cell_type": "code",
   "execution_count": 15,
   "metadata": {},
   "outputs": [],
   "source": [
    "def final_inventory(transactions, amounts):\n",
    "    # 'in'은 1, 'out'은 -1로 매핑\n",
    "    transaction_map = np.where(transactions == 'in', 1, -1)\n",
    "    # 각 거래의 영향을 계산\n",
    "    total_amounts = transaction_map * amounts\n",
    "    # 최종 재고 계산\n",
    "    return np.sum(total_amounts)"
   ]
  },
  {
   "cell_type": "code",
   "execution_count": 16,
   "metadata": {},
   "outputs": [
    {
     "name": "stdout",
     "output_type": "stream",
     "text": [
      "300\n"
     ]
    }
   ],
   "source": [
    "# 테스트 연습\n",
    "transactions = np.array(['in', 'out', 'in', 'in', 'out'])\n",
    "amounts = np.array([100, 50, 200, 150, 100])\n",
    "print(final_inventory(transactions, amounts))  # 300 출력"
   ]
  },
  {
   "cell_type": "code",
   "execution_count": 17,
   "metadata": {},
   "outputs": [
    {
     "name": "stdout",
     "output_type": "stream",
     "text": [
      "완벽합니다~!\n"
     ]
    }
   ],
   "source": [
    "# 테스트\n",
    "tbm = TestArray()\n",
    "tbm.test_number_3()\n",
    "print(\"완벽합니다~!\")"
   ]
  },
  {
   "cell_type": "markdown",
   "metadata": {},
   "source": [
    "### 난이도 2: 미션 - 사진 편집기"
   ]
  },
  {
   "cell_type": "markdown",
   "metadata": {},
   "source": [
    "**배경 이야기:**\n",
    "\n",
    "- 당신은 인기 있는 사진 편집기 앱의 개발자입니다. 사용자들은 앱을 사용하여 사진을 다양한 각도로 회전할 수 있어야 합니다. 이 기능을 구현하기 위해 2차원 배열로 표현된 이미지를 주어진 각도만큼 회전시키는 함수를 작성해야 합니다. 각도는 90도, 180도, 270도 중 하나만 가능합니다.\n",
    "\n",
    "**문제 설명:**\n",
    "\n",
    "- 2차원 numpy 배열로 주어진 이미지를 주어진 각도만큼 회전시키세요. 각도는 90도, 180도, 270도 중 하나입니다. 주어진 각도만큼 회전된 새로운 배열을 반환하는 함수를 작성하세요.\n",
    "\n",
    "**입력:**\n",
    "\n",
    "- arr: 2차원 numpy 배열. 회전시킬 이미지.\n",
    "- angle: 정수. 회전 각도 (90, 180, 270도 중 하나).\n",
    "\n",
    "**출력:**\n",
    "\n",
    "- 주어진 각도만큼 회전된 새로운 2차원 numpy 배열을 반환하세요.\n",
    "\n",
    "**제약 조건:**\n",
    "- 입력 각도는 90, 180, 270도 중 하나입니다. 다른 각도를 입력했을 때 '오류'를 반환하시오.\n",
    "\n",
    "**예시:**\n",
    "```\n",
    "arr = np.array([\n",
    "    [1, 2, 3],\n",
    "    [4, 5, 6],\n",
    "    [7, 8, 9]\n",
    "])\n",
    "angle = 90\n",
    "\n",
    "# 기대 출력\n",
    "array([\n",
    "    [7, 4, 1],\n",
    "    [8, 5, 2],\n",
    "    [9, 6, 3]\n",
    "])\n",
    "```"
   ]
  },
  {
   "cell_type": "code",
   "execution_count": 51,
   "metadata": {},
   "outputs": [],
   "source": [
    "def rotate_array(arr: np.ndarray, angle: int) -> np.ndarray:\n",
    "    \"\"\"주어진 2차원 배열을 주어진 각도만큼 회전시킨 새로운 배열을 반환합니다.\"\"\"\n",
    "    if angle == 90:\n",
    "        return np.transpose(arr[::-1])\n",
    "    elif angle == 180:\n",
    "        return arr[::-1, ::-1]\n",
    "    elif angle == 270:\n",
    "        return np.transpose(arr)[::-1]\n",
    "    else:\n",
    "        return '오류'"
   ]
  },
  {
   "cell_type": "code",
   "execution_count": 52,
   "metadata": {},
   "outputs": [
    {
     "name": "stdout",
     "output_type": "stream",
     "text": [
      "[[7 4 1]\n",
      " [8 5 2]\n",
      " [9 6 3]]\n"
     ]
    }
   ],
   "source": [
    "# 테스트\n",
    "arr = np.array([\n",
    "    [1, 2, 3],\n",
    "    [4, 5, 6],\n",
    "    [7, 8, 9]\n",
    "])\n",
    "angle = 90\n",
    "print(rotate_array(arr, angle))"
   ]
  },
  {
   "cell_type": "code",
   "execution_count": 66,
   "metadata": {},
   "outputs": [
    {
     "name": "stdout",
     "output_type": "stream",
     "text": [
      "완벽합니다~!\n"
     ]
    }
   ],
   "source": [
    "# 테스트\n",
    "tbm = TestArray()\n",
    "tbm.test_number_4()\n",
    "print(\"완벽합니다~!\")"
   ]
  },
  {
   "cell_type": "markdown",
   "metadata": {},
   "source": [
    "### 난이도 3: 미션 - 스파이 메시지 암호 해독: 다중 단계 행렬 연산"
   ]
  },
  {
   "cell_type": "markdown",
   "metadata": {},
   "source": [
    "**배경 이야기:**\n",
    "- 당신은 비밀 정보 기관의 암호 해독 전문가입니다. 적국의 스파이들은 매우 복잡한 암호화 방식을 사용하고 있습니다. 암호화된 메시지는 여러 단계의 행렬 연산을 통해 생성되며, 각 단계는 특정한 키 행렬을 사용합니다. 당신의 임무는 이 다중 단계 행렬 연산을 해독하여 최종 메시지를 복원하는 것입니다.\n",
    "\n",
    "**문제 설명:**\n",
    "- 암호화된 메시지를 해독하기 위해 주어진 여러 키 행렬을 순차적으로 사용하여 행렬 곱셈을 수행해야 합니다. 주어진 초기 메시지 행렬과 여러 키 행렬들을 차례로 곱하여 최종 메시지를 복원하세요.\n",
    "\n",
    "**입력:**\n",
    "- message_matrix: 2차원 numpy 배열. 초기 암호화된 메시지를 나타내는 행렬.\n",
    "- key_matrices: 3차원 numpy 배열. 각 2차원 배열이 행렬 곱셈에 사용될 키 행렬을 나타냅니다.\n",
    "\n",
    "**출력:**\n",
    "- 모든 키 행렬을 순차적으로 곱한 최종 해독된 메시지를 나타내는 2차원 numpy 배열을 반환하세요.\n",
    "\n",
    "**제약 조건:**\n",
    "- message_matrix와 key_matrices의 크기는 행렬 곱셈이 가능하도록 주어집니다. 즉, 각 단계의 행렬 곱셈이 유효하게 수행될 수 있습니다.\n",
    "\n",
    "**예시:**\n",
    "```\n",
    "import numpy as np\n",
    "\n",
    "message_matrix = np.array([\n",
    "    [1, 2],\n",
    "    [3, 4]\n",
    "])\n",
    "\n",
    "key_matrices = np.array([\n",
    "    [[2, 0],\n",
    "     [1, 2]],\n",
    "    \n",
    "    [[1, 1],\n",
    "     [0, 1]]\n",
    "])\n",
    "```"
   ]
  },
  {
   "cell_type": "code",
   "execution_count": 69,
   "metadata": {},
   "outputs": [],
   "source": [
    "def decrypt_message_multi_step(message_matrix: np.ndarray, key_matrices: np.ndarray) -> np.ndarray:\n",
    "    \"\"\"\n",
    "    주어진 초기 메시지 행렬과 여러 키 행렬을 순차적으로 곱하여 최종 해독된 메시지를 반환합니다.\n",
    "    \n",
    "    매개변수:\n",
    "    message_matrix (np.ndarray): 초기 암호화된 메시지를 나타내는 행렬\n",
    "    key_matrices (np.ndarray): 각 2차원 배열이 행렬 곱셈에 사용될 키 행렬을 나타내는 3차원 배열\n",
    "    \n",
    "    반환값:\n",
    "    np.ndarray: 최종 해독된 메시지를 나타내는 행렬\n",
    "    \"\"\"\n",
    "    result = message_matrix\n",
    "    for key_matrix in key_matrices:\n",
    "        result = np.dot(result, key_matrix)\n",
    "    return result"
   ]
  },
  {
   "cell_type": "code",
   "execution_count": 70,
   "metadata": {},
   "outputs": [
    {
     "name": "stdout",
     "output_type": "stream",
     "text": [
      "[[ 4  8]\n",
      " [10 18]]\n"
     ]
    }
   ],
   "source": [
    "# 테스트\n",
    "message_matrix = np.array([\n",
    "    [1, 2],\n",
    "    [3, 4]\n",
    "])\n",
    "\n",
    "key_matrices = np.array([\n",
    "    [[2, 0],\n",
    "     [1, 2]],\n",
    "    \n",
    "    [[1, 1],\n",
    "     [0, 1]]\n",
    "])\n",
    "\n",
    "print(decrypt_message_multi_step(message_matrix, key_matrices))"
   ]
  },
  {
   "cell_type": "code",
   "execution_count": 82,
   "metadata": {},
   "outputs": [
    {
     "name": "stdout",
     "output_type": "stream",
     "text": [
      "완벽합니다~!\n"
     ]
    }
   ],
   "source": [
    "# 테스트\n",
    "tbm = TestArray()\n",
    "tbm.test_number_5()\n",
    "print(\"완벽합니다~!\")"
   ]
  },
  {
   "cell_type": "markdown",
   "metadata": {},
   "source": [
    "### 난이도 4: 미션 - 날씨 예측 모델\n"
   ]
  },
  {
   "cell_type": "markdown",
   "metadata": {},
   "source": [
    "**배경 이야기:**\n",
    "- 당신은 기상 예측 기관에서 일하는 데이터 과학자입니다. 다양한 날씨 데이터를 바탕으로 향후 날씨를 예측하는 모델을 개발하고 있습니다. 이 모델은 여러 날의 온도, 습도, 기압 등의 데이터를 입력받아 이를 분석하여 향후 날씨를 예측합니다. 이를 위해 주어진 데이터에 대해 복잡한 수학적 연산을 수행해야 합니다.\n",
    "\n",
    "**문제 설명:**\n",
    "- 주어진 2차원 numpy 배열은 여러 날에 대한 다양한 기상 데이터 (예: 온도, 습도, 기압 등)를 포함하고 있습니다. 이 데이터를 바탕으로 특정 연산을 수행하여 향후 날씨를 예측하는 모델을 구현하세요. 예를 들어, 각 날의 데이터를 특정 행렬과 곱한 후, 그 결과를 이용하여 예측값을 도출해야 합니다.\n",
    "\n",
    "**입력:**\n",
    "- weather_data: 2차원 numpy 배열. 각 행은 특정 날의 기상 데이터를 나타냅니다.\n",
    "- transformation_matrix: 2차원 numpy 배열. 기상 데이터를 변환하는 데 사용할 행렬입니다.\n",
    "- weight_vector: 1차원 numpy 배열. 변환된 데이터를 가중합하여 최종 예측값을 계산하는 데 사용할 벡터입니다.\n",
    "\n",
    "**출력:**\n",
    "- 주어진 기상 데이터를 변환하고 가중합하여 도출된 예측값을 포함한 1차원 numpy 배열을 반환하세요.\n",
    "- 이 때, 변환이란 행렬곱 연산을 의미합니다.\n",
    "\n",
    "**제약 조건:**\n",
    "- weather_data와 transformation_matrix의 크기는 행렬 곱셈이 가능하도록 주어집니다. 즉, weather_data의 열의 수는 transformation_matrix의 행의 수와 같습니다.\n",
    "- transformation_matrix와 weight_vector의 크기도 연산이 가능하도록 주어집니다. 즉, transformation_matrix의 열의 수는 weight_vector의 길이와 같습니다.\n",
    "\n",
    "**예시:**\n",
    "```\n",
    "weather_data = np.array([\n",
    "    [20, 85, 1015],\n",
    "    [25, 80, 1010],\n",
    "    [30, 75, 1005]\n",
    "])\n",
    "\n",
    "transformation_matrix = np.array([\n",
    "    [0.1, 0.2, 0.3],\n",
    "    [0.4, 0.5, 0.6],\n",
    "    [0.7, 0.8, 0.9]\n",
    "])\n",
    "\n",
    "weight_vector = np.array([0.3, 0.5, 0.2])\n",
    "\n",
    "### 기대 출력\n",
    "array([ 582.5,  725. ,  867.5])\n",
    "```"
   ]
  },
  {
   "cell_type": "code",
   "execution_count": 83,
   "metadata": {},
   "outputs": [],
   "source": [
    "import numpy as np\n",
    "\n",
    "def weather_prediction(weather_data: np.ndarray, transformation_matrix: np.ndarray, weight_vector: np.ndarray) -> np.ndarray:\n",
    "    \"\"\"\n",
    "    주어진 기상 데이터를 변환하고 가중합하여 도출된 예측값을 반환합니다.\n",
    "    \n",
    "    매개변수:\n",
    "    weather_data (np.ndarray): 각 날의 기상 데이터를 나타내는 2차원 배열\n",
    "    transformation_matrix (np.ndarray): 기상 데이터를 변환하는 데 사용할 행렬\n",
    "    weight_vector (np.ndarray): 변환된 데이터를 가중합하여 최종 예측값을 계산하는 데 사용할 벡터\n",
    "    \n",
    "    반환값:\n",
    "    np.ndarray: 예측값을 포함한 1차원 배열\n",
    "    \"\"\"\n",
    "    # 기상 데이터를 변환 행렬과 곱함\n",
    "    transformed_data = np.dot(weather_data, transformation_matrix)\n",
    "    # 변환된 데이터를 가중합하여 예측값 계산\n",
    "    predictions = np.dot(transformed_data, weight_vector)\n",
    "    return predictions"
   ]
  },
  {
   "cell_type": "code",
   "execution_count": 84,
   "metadata": {},
   "outputs": [
    {
     "name": "stdout",
     "output_type": "stream",
     "text": [
      "[847.3  841.85 836.4 ]\n"
     ]
    }
   ],
   "source": [
    "# 테스트\n",
    "weather_data = np.array([\n",
    "    [20, 85, 1015],\n",
    "    [25, 80, 1010],\n",
    "    [30, 75, 1005]\n",
    "])\n",
    "\n",
    "transformation_matrix = np.array([\n",
    "    [0.1, 0.2, 0.3],\n",
    "    [0.4, 0.5, 0.6],\n",
    "    [0.7, 0.8, 0.9]\n",
    "])\n",
    "\n",
    "weight_vector = np.array([0.3, 0.5, 0.2])\n",
    "\n",
    "print(weather_prediction(weather_data, transformation_matrix, weight_vector))"
   ]
  },
  {
   "cell_type": "code",
   "execution_count": 86,
   "metadata": {},
   "outputs": [
    {
     "name": "stdout",
     "output_type": "stream",
     "text": [
      "완벽합니다~!\n"
     ]
    }
   ],
   "source": [
    "# 테스트\n",
    "tbm = TestArray()\n",
    "tbm.test_number_6()\n",
    "print(\"완벽합니다~!\")"
   ]
  }
 ],
 "metadata": {
  "kernelspec": {
   "display_name": "Python 3",
   "language": "python",
   "name": "python3"
  },
  "language_info": {
   "codemirror_mode": {
    "name": "ipython",
    "version": 3
   },
   "file_extension": ".py",
   "mimetype": "text/x-python",
   "name": "python",
   "nbconvert_exporter": "python",
   "pygments_lexer": "ipython3",
   "version": "3.9.6"
  }
 },
 "nbformat": 4,
 "nbformat_minor": 2
}
